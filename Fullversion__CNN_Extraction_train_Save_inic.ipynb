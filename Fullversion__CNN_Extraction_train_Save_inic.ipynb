{
  "cells": [
    {
      "cell_type": "markdown",
      "metadata": {
        "id": "view-in-github",
        "colab_type": "text"
      },
      "source": [
        "<a href=\"https://colab.research.google.com/github/herculesc/CNN_Extraction/blob/main/Fullversion__CNN_Extraction_train_Save_inic.ipynb\" target=\"_parent\"><img src=\"https://colab.research.google.com/assets/colab-badge.svg\" alt=\"Open In Colab\"/></a>"
      ]
    },
    {
      "cell_type": "markdown",
      "metadata": {
        "id": "aYhdyuAA4xXY"
      },
      "source": [
        "# Extração de caracteristicas usando uma CNN\n"
      ]
    },
    {
      "cell_type": "code",
      "execution_count": null,
      "metadata": {
        "colab": {
          "base_uri": "https://localhost:8080/"
        },
        "id": "fOR3NdO2RcJt",
        "outputId": "a4502e3e-cc27-468f-bc18-d47302aefd54"
      },
      "outputs": [
        {
          "output_type": "stream",
          "name": "stdout",
          "text": [
            "Mounted at /content/drive\n"
          ]
        }
      ],
      "source": [
        "from google.colab import drive\n",
        "drive.mount('/content/drive')"
      ]
    },
    {
      "cell_type": "code",
      "execution_count": null,
      "metadata": {
        "id": "ZrztZVmP1WzI"
      },
      "outputs": [],
      "source": [
        "import tensorflow as tf\n",
        "from tensorflow import keras\n",
        "from keras.layers import Input, Conv2D\n",
        "from keras.layers import MaxPool2D, Flatten, Dense\n",
        "from keras import Model"
      ]
    },
    {
      "cell_type": "markdown",
      "metadata": {
        "id": "dXUN3pU7c65K"
      },
      "source": [
        "# Função de tempo"
      ]
    },
    {
      "cell_type": "code",
      "execution_count": null,
      "metadata": {
        "id": "UlvVEp27ec2m"
      },
      "outputs": [],
      "source": [
        "import sys\n",
        "# Abrir local do arquivo\n",
        "sys.path.append('/content/drive/MyDrive/TensorFlow_IC')\n",
        "# Carrefar função do arquivo\n",
        "from Time_execution import init_time\n",
        "from Time_execution import time_ex\n",
        "timeres = []"
      ]
    },
    {
      "cell_type": "markdown",
      "metadata": {
        "id": "kDx0r5Bi4vC3"
      },
      "source": [
        "# Modelo Pré-treinado com ImageNet\n",
        "Execute um dos modelos para extrar as informações dados imagens."
      ]
    },
    {
      "cell_type": "markdown",
      "metadata": {
        "id": "tX9qV94E1Xi3"
      },
      "source": [
        "# VGG-16\n"
      ]
    },
    {
      "cell_type": "code",
      "execution_count": null,
      "metadata": {
        "id": "zh3t1SU0Lx2M"
      },
      "outputs": [],
      "source": [
        "modelo = tf.keras.applications.VGG16(\n",
        "    include_top=True,\n",
        "    weights=\"imagenet\",\n",
        "    input_tensor=None,\n",
        "    input_shape=None,\n",
        "    pooling=None,\n",
        "    classes=1000,\n",
        "    classifier_activation=\"softmax\",\n",
        ")"
      ]
    },
    {
      "cell_type": "markdown",
      "metadata": {
        "id": "dpxWXF33uLxo"
      },
      "source": [
        "# MobileNet"
      ]
    },
    {
      "cell_type": "code",
      "execution_count": null,
      "metadata": {
        "id": "mTylyh0Bt5S3"
      },
      "outputs": [],
      "source": [
        "modelo = tf.keras.applications.MobileNet(\n",
        "    input_shape=None,\n",
        "    alpha=1.0,\n",
        "    depth_multiplier=1,\n",
        "    dropout=0.001,\n",
        "    include_top=True,\n",
        "    weights=\"imagenet\",\n",
        "    input_tensor=None,\n",
        "    pooling=None,\n",
        "    classes=1000,\n",
        "    classifier_activation=\"softmax\"\n",
        ")"
      ]
    },
    {
      "cell_type": "markdown",
      "metadata": {
        "id": "2UUmTwcxT2sR"
      },
      "source": []
    },
    {
      "cell_type": "markdown",
      "metadata": {
        "id": "ir80q5D_hj_U"
      },
      "source": [
        "# EfficientNetB0"
      ]
    },
    {
      "cell_type": "code",
      "execution_count": null,
      "metadata": {
        "colab": {
          "base_uri": "https://localhost:8080/"
        },
        "id": "cadpIfqhhiNa",
        "outputId": "727d9901-26aa-47c9-d0f2-79023a718bbc"
      },
      "outputs": [
        {
          "name": "stdout",
          "output_type": "stream",
          "text": [
            "Downloading data from https://storage.googleapis.com/keras-applications/efficientnetb0.h5\n",
            "21839872/21834768 [==============================] - 1s 0us/step\n",
            "21848064/21834768 [==============================] - 1s 0us/step\n"
          ]
        }
      ],
      "source": [
        "modelo = tf.keras.applications.EfficientNetB0(\n",
        "    include_top=True,\n",
        "    weights=\"imagenet\",\n",
        "    input_tensor=None,\n",
        "    input_shape=None,\n",
        "    pooling=None,\n",
        "    classes=1000,\n",
        "    classifier_activation=\"softmax\"\n",
        ")"
      ]
    },
    {
      "cell_type": "markdown",
      "metadata": {
        "id": "2sGxQ28e9rQ-"
      },
      "source": [
        "# ResNet50V2"
      ]
    },
    {
      "cell_type": "code",
      "execution_count": null,
      "metadata": {
        "colab": {
          "base_uri": "https://localhost:8080/"
        },
        "id": "HkGXnfC59pIl",
        "outputId": "0c79bd88-28c5-473a-be2d-c03d9bad2e68"
      },
      "outputs": [
        {
          "name": "stdout",
          "output_type": "stream",
          "text": [
            "Downloading data from https://storage.googleapis.com/tensorflow/keras-applications/resnet/resnet50v2_weights_tf_dim_ordering_tf_kernels.h5\n",
            "102875136/102869336 [==============================] - 3s 0us/step\n",
            "102883328/102869336 [==============================] - 3s 0us/step\n"
          ]
        }
      ],
      "source": [
        "modelo = tf.keras.applications.ResNet50V2(\n",
        "    include_top=True,\n",
        "    weights=\"imagenet\",\n",
        "    input_tensor=None,\n",
        "    input_shape=None,\n",
        "    pooling=None,\n",
        "    classes=1000,\n",
        "    classifier_activation=\"softmax\",\n",
        ")"
      ]
    },
    {
      "cell_type": "markdown",
      "metadata": {
        "id": "1g8CBPTn93G7"
      },
      "source": [
        "# EfficientNetV2L"
      ]
    },
    {
      "cell_type": "code",
      "execution_count": null,
      "metadata": {
        "colab": {
          "base_uri": "https://localhost:8080/"
        },
        "id": "TXk-g1Xg9zUf",
        "outputId": "9a52c5a8-3277-4871-cb14-da7d4484482f"
      },
      "outputs": [
        {
          "output_type": "stream",
          "name": "stdout",
          "text": [
            "Downloading data from https://storage.googleapis.com/tensorflow/keras-applications/efficientnet_v2/efficientnetv2-l.h5\n",
            "478314496/478307632 [==============================] - 2s 0us/step\n",
            "478322688/478307632 [==============================] - 2s 0us/step\n"
          ]
        }
      ],
      "source": [
        "modelo = tf.keras.applications.EfficientNetV2L(\n",
        "    include_top=True,\n",
        "    weights=\"imagenet\",\n",
        "    input_tensor=None,\n",
        "    input_shape=None,\n",
        "    pooling=None,\n",
        "    classes=1000,\n",
        "    classifier_activation=\"softmax\",\n",
        "    include_preprocessing=True,\n",
        ")"
      ]
    },
    {
      "cell_type": "markdown",
      "metadata": {
        "id": "j_bLwCIZ-BgY"
      },
      "source": [
        "# EfficientNetB7"
      ]
    },
    {
      "cell_type": "code",
      "execution_count": null,
      "metadata": {
        "colab": {
          "base_uri": "https://localhost:8080/"
        },
        "id": "axR1mB0Z-FW2",
        "outputId": "b1709ab7-f741-4b0c-e8d8-e96708b58d09"
      },
      "outputs": [
        {
          "output_type": "stream",
          "name": "stdout",
          "text": [
            "Downloading data from https://storage.googleapis.com/keras-applications/efficientnetb7.h5\n",
            "268328960/268326632 [==============================] - 2s 0us/step\n",
            "268337152/268326632 [==============================] - 2s 0us/step\n"
          ]
        }
      ],
      "source": [
        "modelo = tf.keras.applications.EfficientNetB7(\n",
        "    include_top=True,\n",
        "    weights=\"imagenet\",\n",
        "    input_tensor=None,\n",
        "    input_shape=None,\n",
        "    pooling=None,\n",
        "    classes=1000,\n",
        "    classifier_activation=\"softmax\"\n",
        ")"
      ]
    },
    {
      "cell_type": "markdown",
      "metadata": {
        "id": "z402ukmj-VES"
      },
      "source": [
        "# NASNetLarge"
      ]
    },
    {
      "cell_type": "code",
      "execution_count": null,
      "metadata": {
        "colab": {
          "base_uri": "https://localhost:8080/"
        },
        "id": "354Eto5J-RGK",
        "outputId": "7070c474-ba7a-4d16-ba97-14f5fb23491f"
      },
      "outputs": [
        {
          "output_type": "stream",
          "name": "stdout",
          "text": [
            "Downloading data from https://storage.googleapis.com/tensorflow/keras-applications/nasnet/NASNet-large.h5\n",
            "359751680/359748576 [==============================] - 2s 0us/step\n",
            "359759872/359748576 [==============================] - 2s 0us/step\n"
          ]
        }
      ],
      "source": [
        "modelo = tf.keras.applications.NASNetLarge(\n",
        "    input_shape=None,\n",
        "    include_top=True,\n",
        "    weights=\"imagenet\",\n",
        "    input_tensor=None,\n",
        "    pooling=None,\n",
        "    classes=1000\n",
        ")"
      ]
    },
    {
      "cell_type": "markdown",
      "metadata": {
        "id": "bbI7jMei_JKE"
      },
      "source": [
        "# InceptionResNetV2"
      ]
    },
    {
      "cell_type": "code",
      "execution_count": null,
      "metadata": {
        "id": "cWIxl25k-c7X"
      },
      "outputs": [],
      "source": [
        "modelo = tf.keras.applications.InceptionResNetV2(\n",
        "    include_top=True,\n",
        "    weights=\"imagenet\",\n",
        "    input_tensor=None,\n",
        "    input_shape=None,\n",
        "    pooling=None,\n",
        "    classes=1000,\n",
        "    classifier_activation=\"softmax\"\n",
        ")"
      ]
    },
    {
      "cell_type": "markdown",
      "metadata": {
        "id": "OPw8UtfxUZgo"
      },
      "source": [
        "# Carregando Dados"
      ]
    },
    {
      "cell_type": "code",
      "execution_count": null,
      "metadata": {
        "id": "vuigE6KOPSlu"
      },
      "outputs": [],
      "source": [
        "# 1\n",
        "# Pegar o nome de cada imagen\n",
        "# Ativar o modelo com a imagen caminho+nome\n",
        "# Salvar CSV com os valores\n",
        "import os\n",
        "\n",
        "caminhos = '/content/drive/MyDrive/TensorFlow_IC/Dados/ImageDrone_5cm/Treinamento'\n",
        "\n",
        "classes = ['/predio', '/carro', '/casa', '/arvore']\n",
        "\n",
        "# Lista com o caminho de cada imagem\n",
        "#nome_imagens = os.listdir(caminhos+classes[0])\n",
        "\n",
        "\n",
        "# lista para salvar o caminho de cada imagem\n",
        "caminho_imagens = []\n",
        "\n",
        "nome_img_predio = []\n",
        "nome_img_carro = []\n",
        "nome_img_casa = []\n",
        "nome_img_arvore = []\n",
        "\n",
        "nomes_img_completo = []\n",
        "# Separa cada classe em um lista separada\n",
        "for clas in range(len(classes)):\n",
        "  #nome_imagens = os.listdir(classes[0])\n",
        "  nome_imagens = os.listdir(caminhos+classes[clas])  \n",
        "  nome_imagens_ordenado = sorted(nome_imagens)\n",
        "  if clas == 0:\n",
        "    for i in nome_imagens_ordenado:\n",
        "      nome_img_predio.append(i)\n",
        "  elif clas == 1:\n",
        "    for i in nome_imagens_ordenado:\n",
        "      nome_img_carro.append(i)\n",
        "  elif clas == 2:\n",
        "    for i in nome_imagens_ordenado:\n",
        "      nome_img_casa.append(i)\n",
        "  else:\n",
        "    for i in nome_imagens_ordenado:\n",
        "      nome_img_arvore.append(i)"
      ]
    },
    {
      "cell_type": "code",
      "execution_count": null,
      "metadata": {
        "id": "Lc2v_XVhZhYp"
      },
      "outputs": [],
      "source": [
        "# Tamanho de entrada VGG-16\n",
        "''' \n",
        "VGG_16            (224)\n",
        "MobileNet         (224)\n",
        "EfficientNetB0    (000)\n",
        "ResNet50V2        (000)\n",
        "EfficientNetV2L   (480)\n",
        "EfficientNetB7    (000)\n",
        "NASNetLarge       (331)\n",
        "InceptionResNetV2 (000)\n",
        "''' \n",
        "tamanhos = [224,299,331,448,480, 600 ]\n",
        "# Tamanho de entrada \n",
        "select = tamanhos[2]\n",
        "image_size = (select, select)\n",
        "\n",
        "#efficientnetv2 \n",
        "#image_size = (480,480)\n",
        "\n",
        "batch_size = 32\n"
      ]
    },
    {
      "cell_type": "code",
      "execution_count": null,
      "metadata": {
        "colab": {
          "base_uri": "https://localhost:8080/"
        },
        "id": "9hA1DwQ41Tub",
        "outputId": "3a519cf0-2375-41af-8e3d-f8dfaf54bdb2"
      },
      "outputs": [
        {
          "output_type": "stream",
          "name": "stdout",
          "text": [
            "['N1', 'N2', 'N3', 'N4', 'N5', 'N6', 'N7', 'N8', 'N9', 'N10', 'N11', 'N12', 'N13', 'N14', 'N15', 'N16', 'N17', 'N18', 'N19', 'N20', 'N21', 'N22', 'N23', 'N24', 'N25', 'N26', 'N27', 'N28', 'N29', 'N30', 'N31', 'N32', 'N33', 'N34', 'N35', 'N36', 'N37', 'N38', 'N39', 'N40', 'N41', 'N42', 'N43', 'N44', 'N45', 'N46', 'N47', 'N48', 'N49', 'N50', 'N51', 'N52', 'N53', 'N54', 'N55', 'N56', 'N57', 'N58', 'N59', 'N60', 'N61', 'N62', 'N63', 'N64', 'N65', 'N66', 'N67', 'N68', 'N69', 'N70', 'N71', 'N72', 'N73', 'N74', 'N75', 'N76', 'N77', 'N78', 'N79', 'N80', 'N81', 'N82', 'N83', 'N84', 'N85', 'N86', 'N87', 'N88', 'N89', 'N90', 'N91', 'N92', 'N93', 'N94', 'N95', 'N96', 'N97', 'N98', 'N99', 'N100', 'N101', 'N102', 'N103', 'N104', 'N105', 'N106', 'N107', 'N108', 'N109', 'N110', 'N111', 'N112', 'N113', 'N114', 'N115', 'N116', 'N117', 'N118', 'N119', 'N120', 'N121', 'N122', 'N123', 'N124', 'N125', 'N126', 'N127', 'N128', 'N129', 'N130', 'N131', 'N132', 'N133', 'N134', 'N135', 'N136', 'N137', 'N138', 'N139', 'N140', 'N141', 'N142', 'N143', 'N144', 'N145', 'N146', 'N147', 'N148', 'N149', 'N150', 'N151', 'N152', 'N153', 'N154', 'N155', 'N156', 'N157', 'N158', 'N159', 'N160', 'N161', 'N162', 'N163', 'N164', 'N165', 'N166', 'N167', 'N168', 'N169', 'N170', 'N171', 'N172', 'N173', 'N174', 'N175', 'N176', 'N177', 'N178', 'N179', 'N180', 'N181', 'N182', 'N183', 'N184', 'N185', 'N186', 'N187', 'N188', 'N189', 'N190', 'N191', 'N192', 'N193', 'N194', 'N195', 'N196', 'N197', 'N198', 'N199', 'N200', 'N201', 'N202', 'N203', 'N204', 'N205', 'N206', 'N207', 'N208', 'N209', 'N210', 'N211', 'N212', 'N213', 'N214', 'N215', 'N216', 'N217', 'N218', 'N219', 'N220', 'N221', 'N222', 'N223', 'N224', 'N225', 'N226', 'N227', 'N228', 'N229', 'N230', 'N231', 'N232', 'N233', 'N234', 'N235', 'N236', 'N237', 'N238', 'N239', 'N240', 'N241', 'N242', 'N243', 'N244', 'N245', 'N246', 'N247', 'N248', 'N249', 'N250', 'N251', 'N252', 'N253', 'N254', 'N255', 'N256', 'N257', 'N258', 'N259', 'N260', 'N261', 'N262', 'N263', 'N264', 'N265', 'N266', 'N267', 'N268', 'N269', 'N270', 'N271', 'N272', 'N273', 'N274', 'N275', 'N276', 'N277', 'N278', 'N279', 'N280', 'N281', 'N282', 'N283', 'N284', 'N285', 'N286', 'N287', 'N288', 'N289', 'N290', 'N291', 'N292', 'N293', 'N294', 'N295', 'N296', 'N297', 'N298', 'N299', 'N300', 'N301', 'N302', 'N303', 'N304', 'N305', 'N306', 'N307', 'N308', 'N309', 'N310', 'N311', 'N312', 'N313', 'N314', 'N315', 'N316', 'N317', 'N318', 'N319', 'N320', 'N321', 'N322', 'N323', 'N324', 'N325', 'N326', 'N327', 'N328', 'N329', 'N330', 'N331', 'N332', 'N333', 'N334', 'N335', 'N336', 'N337', 'N338', 'N339', 'N340', 'N341', 'N342', 'N343', 'N344', 'N345', 'N346', 'N347', 'N348', 'N349', 'N350', 'N351', 'N352', 'N353', 'N354', 'N355', 'N356', 'N357', 'N358', 'N359', 'N360', 'N361', 'N362', 'N363', 'N364', 'N365', 'N366', 'N367', 'N368', 'N369', 'N370', 'N371', 'N372', 'N373', 'N374', 'N375', 'N376', 'N377', 'N378', 'N379', 'N380', 'N381', 'N382', 'N383', 'N384', 'N385', 'N386', 'N387', 'N388', 'N389', 'N390', 'N391', 'N392', 'N393', 'N394', 'N395', 'N396', 'N397', 'N398', 'N399', 'N400', 'N401', 'N402', 'N403', 'N404', 'N405', 'N406', 'N407', 'N408', 'N409', 'N410', 'N411', 'N412', 'N413', 'N414', 'N415', 'N416', 'N417', 'N418', 'N419', 'N420', 'N421', 'N422', 'N423', 'N424', 'N425', 'N426', 'N427', 'N428', 'N429', 'N430', 'N431', 'N432', 'N433', 'N434', 'N435', 'N436', 'N437', 'N438', 'N439', 'N440', 'N441', 'N442', 'N443', 'N444', 'N445', 'N446', 'N447', 'N448', 'N449', 'N450', 'N451', 'N452', 'N453', 'N454', 'N455', 'N456', 'N457', 'N458', 'N459', 'N460', 'N461', 'N462', 'N463', 'N464', 'N465', 'N466', 'N467', 'N468', 'N469', 'N470', 'N471', 'N472', 'N473', 'N474', 'N475', 'N476', 'N477', 'N478', 'N479', 'N480', 'N481', 'N482', 'N483', 'N484', 'N485', 'N486', 'N487', 'N488', 'N489', 'N490', 'N491', 'N492', 'N493', 'N494', 'N495', 'N496', 'N497', 'N498', 'N499', 'N500', 'N501', 'N502', 'N503', 'N504', 'N505', 'N506', 'N507', 'N508', 'N509', 'N510', 'N511', 'N512', 'N513', 'N514', 'N515', 'N516', 'N517', 'N518', 'N519', 'N520', 'N521', 'N522', 'N523', 'N524', 'N525', 'N526', 'N527', 'N528', 'N529', 'N530', 'N531', 'N532', 'N533', 'N534', 'N535', 'N536', 'N537', 'N538', 'N539', 'N540', 'N541', 'N542', 'N543', 'N544', 'N545', 'N546', 'N547', 'N548', 'N549', 'N550', 'N551', 'N552', 'N553', 'N554', 'N555', 'N556', 'N557', 'N558', 'N559', 'N560', 'N561', 'N562', 'N563', 'N564', 'N565', 'N566', 'N567', 'N568', 'N569', 'N570', 'N571', 'N572', 'N573', 'N574', 'N575', 'N576', 'N577', 'N578', 'N579', 'N580', 'N581', 'N582', 'N583', 'N584', 'N585', 'N586', 'N587', 'N588', 'N589', 'N590', 'N591', 'N592', 'N593', 'N594', 'N595', 'N596', 'N597', 'N598', 'N599', 'N600', 'N601', 'N602', 'N603', 'N604', 'N605', 'N606', 'N607', 'N608', 'N609', 'N610', 'N611', 'N612', 'N613', 'N614', 'N615', 'N616', 'N617', 'N618', 'N619', 'N620', 'N621', 'N622', 'N623', 'N624', 'N625', 'N626', 'N627', 'N628', 'N629', 'N630', 'N631', 'N632', 'N633', 'N634', 'N635', 'N636', 'N637', 'N638', 'N639', 'N640', 'N641', 'N642', 'N643', 'N644', 'N645', 'N646', 'N647', 'N648', 'N649', 'N650', 'N651', 'N652', 'N653', 'N654', 'N655', 'N656', 'N657', 'N658', 'N659', 'N660', 'N661', 'N662', 'N663', 'N664', 'N665', 'N666', 'N667', 'N668', 'N669', 'N670', 'N671', 'N672', 'N673', 'N674', 'N675', 'N676', 'N677', 'N678', 'N679', 'N680', 'N681', 'N682', 'N683', 'N684', 'N685', 'N686', 'N687', 'N688', 'N689', 'N690', 'N691', 'N692', 'N693', 'N694', 'N695', 'N696', 'N697', 'N698', 'N699', 'N700', 'N701', 'N702', 'N703', 'N704', 'N705', 'N706', 'N707', 'N708', 'N709', 'N710', 'N711', 'N712', 'N713', 'N714', 'N715', 'N716', 'N717', 'N718', 'N719', 'N720', 'N721', 'N722', 'N723', 'N724', 'N725', 'N726', 'N727', 'N728', 'N729', 'N730', 'N731', 'N732', 'N733', 'N734', 'N735', 'N736', 'N737', 'N738', 'N739', 'N740', 'N741', 'N742', 'N743', 'N744', 'N745', 'N746', 'N747', 'N748', 'N749', 'N750', 'N751', 'N752', 'N753', 'N754', 'N755', 'N756', 'N757', 'N758', 'N759', 'N760', 'N761', 'N762', 'N763', 'N764', 'N765', 'N766', 'N767', 'N768', 'N769', 'N770', 'N771', 'N772', 'N773', 'N774', 'N775', 'N776', 'N777', 'N778', 'N779', 'N780', 'N781', 'N782', 'N783', 'N784', 'N785', 'N786', 'N787', 'N788', 'N789', 'N790', 'N791', 'N792', 'N793', 'N794', 'N795', 'N796', 'N797', 'N798', 'N799', 'N800', 'N801', 'N802', 'N803', 'N804', 'N805', 'N806', 'N807', 'N808', 'N809', 'N810', 'N811', 'N812', 'N813', 'N814', 'N815', 'N816', 'N817', 'N818', 'N819', 'N820', 'N821', 'N822', 'N823', 'N824', 'N825', 'N826', 'N827', 'N828', 'N829', 'N830', 'N831', 'N832', 'N833', 'N834', 'N835', 'N836', 'N837', 'N838', 'N839', 'N840', 'N841', 'N842', 'N843', 'N844', 'N845', 'N846', 'N847', 'N848', 'N849', 'N850', 'N851', 'N852', 'N853', 'N854', 'N855', 'N856', 'N857', 'N858', 'N859', 'N860', 'N861', 'N862', 'N863', 'N864', 'N865', 'N866', 'N867', 'N868', 'N869', 'N870', 'N871', 'N872', 'N873', 'N874', 'N875', 'N876', 'N877', 'N878', 'N879', 'N880', 'N881', 'N882', 'N883', 'N884', 'N885', 'N886', 'N887', 'N888', 'N889', 'N890', 'N891', 'N892', 'N893', 'N894', 'N895', 'N896', 'N897', 'N898', 'N899', 'N900', 'N901', 'N902', 'N903', 'N904', 'N905', 'N906', 'N907', 'N908', 'N909', 'N910', 'N911', 'N912', 'N913', 'N914', 'N915', 'N916', 'N917', 'N918', 'N919', 'N920', 'N921', 'N922', 'N923', 'N924', 'N925', 'N926', 'N927', 'N928', 'N929', 'N930', 'N931', 'N932', 'N933', 'N934', 'N935', 'N936', 'N937', 'N938', 'N939', 'N940', 'N941', 'N942', 'N943', 'N944', 'N945', 'N946', 'N947', 'N948', 'N949', 'N950', 'N951', 'N952', 'N953', 'N954', 'N955', 'N956', 'N957', 'N958', 'N959', 'N960', 'N961', 'N962', 'N963', 'N964', 'N965', 'N966', 'N967', 'N968', 'N969', 'N970', 'N971', 'N972', 'N973', 'N974', 'N975', 'N976', 'N977', 'N978', 'N979', 'N980', 'N981', 'N982', 'N983', 'N984', 'N985', 'N986', 'N987', 'N988', 'N989', 'N990', 'N991', 'N992', 'N993', 'N994', 'N995', 'N996', 'N997', 'N998', 'N999', 'N1000']\n"
          ]
        }
      ],
      "source": [
        "import pandas as pd\n",
        "# Criando nome das colunas do dataframe\n",
        "nome_colunas = []\n",
        "for i in range (1000):\n",
        "  nome_colunas.append(f'N{i+1}')\n",
        "\n",
        "print(nome_colunas)\n"
      ]
    },
    {
      "cell_type": "code",
      "execution_count": null,
      "metadata": {
        "id": "A0gh7cfsGWae"
      },
      "outputs": [],
      "source": [
        "import numpy as np\n"
      ]
    },
    {
      "cell_type": "code",
      "execution_count": null,
      "metadata": {
        "id": "yBeWKO96WHyg"
      },
      "outputs": [],
      "source": [
        "names_images  = ['/content/drive/MyDrive/TensorFlow_IC/Dados/ImageDrone_5cm/Treinamento/predio/',\n",
        "                 '/content/drive/MyDrive/TensorFlow_IC/Dados/ImageDrone_5cm/Treinamento/carro/',\n",
        "                 '/content/drive/MyDrive/TensorFlow_IC/Dados/ImageDrone_5cm/Treinamento/casa/',\n",
        "                 '/content/drive/MyDrive/TensorFlow_IC/Dados/ImageDrone_5cm/Treinamento/arvore/']\n",
        "\n",
        "\n"
      ]
    },
    {
      "cell_type": "markdown",
      "metadata": {
        "id": "Roax3s6sagZD"
      },
      "source": [
        "# **Método para adicionar a predição ao data frame**\n",
        "Falta:\n",
        "Criar coluna com a classe "
      ]
    },
    {
      "cell_type": "markdown",
      "metadata": {
        "id": "cezVeHI7fsMp"
      },
      "source": [
        "Função Adiciona linha predição ao dataframe"
      ]
    },
    {
      "cell_type": "code",
      "execution_count": null,
      "metadata": {
        "id": "VaPCeOaydRXC"
      },
      "outputs": [],
      "source": [
        "def add_data(nome_class, caminhos, image_size, df_aux, nome_colunas):\n",
        "  for names in nome_class:\n",
        "    img = keras.preprocessing.image.load_img( caminhos+'/'+names, target_size=image_size)\n",
        "    img_array = keras.preprocessing.image.img_to_array(img)\n",
        "\n",
        "    img_array = tf.expand_dims(img_array, 0)\n",
        "    predictions = modelo.predict(img_array)\n",
        "\n",
        "    df_2 = pd.DataFrame(predictions,columns=nome_colunas)\n",
        "    df_aux = df_aux.append(df_2)  \n",
        "  return df_aux\n"
      ]
    },
    {
      "cell_type": "markdown",
      "metadata": {
        "id": "UcNCNE8nkzaI"
      },
      "source": [
        "# Teste com todas as imagens de predio "
      ]
    },
    {
      "cell_type": "code",
      "execution_count": null,
      "metadata": {
        "id": "N0MrCsGal3ND"
      },
      "outputs": [],
      "source": [
        "# class numeros\n",
        "# predio = 0, carro = 1, casa = 2, arvore = 3"
      ]
    },
    {
      "cell_type": "code",
      "execution_count": null,
      "metadata": {
        "id": "qeFvpBNXd2qT"
      },
      "outputs": [],
      "source": [
        "# Adiciona predio\n",
        "#contador\n",
        "inicio_predio =init_time()\n",
        "df_Auxpredio = pd.DataFrame(columns=nome_colunas)\n",
        "df_predio = add_data(nome_img_predio, names_images[0],image_size,df_Auxpredio, nome_colunas)\n",
        "final_predio = time_ex(inicio_predio)"
      ]
    },
    {
      "cell_type": "code",
      "execution_count": null,
      "metadata": {
        "id": "y9e196OEsBki"
      },
      "outputs": [],
      "source": [
        "# Adiciona Carro\n",
        "inicio_carro =init_time()\n",
        "df_Auxcarro = pd.DataFrame(columns=nome_colunas)\n",
        "df_carro = add_data(nome_img_carro, names_images[1],image_size,df_Auxcarro, nome_colunas)\n",
        "final_carro = time_ex(inicio_carro)"
      ]
    },
    {
      "cell_type": "code",
      "execution_count": null,
      "metadata": {
        "id": "wTrv319PppBa"
      },
      "outputs": [],
      "source": [
        "# Adiciona Casa\n",
        "inicio_casa =init_time()\n",
        "df_Auxcasa = pd.DataFrame(columns=nome_colunas)\n",
        "df_casa = add_data(nome_img_casa, names_images[2],image_size,df_Auxcasa, nome_colunas)\n",
        "final_casa = time_ex(inicio_casa)"
      ]
    },
    {
      "cell_type": "code",
      "execution_count": null,
      "metadata": {
        "id": "_8w65XWAsNpp"
      },
      "outputs": [],
      "source": [
        "# Adiciona Arvore\n",
        "inicio_arvore =init_time()\n",
        "df_Aux_arvore = pd.DataFrame(columns=nome_colunas)\n",
        "df_arvore= add_data(nome_img_arvore, names_images[3],image_size,df_Aux_arvore, nome_colunas)\n",
        "final_arvore = time_ex(inicio_arvore)"
      ]
    },
    {
      "cell_type": "code",
      "execution_count": null,
      "metadata": {
        "colab": {
          "base_uri": "https://localhost:8080/"
        },
        "id": "dvXc1COWpkT9",
        "outputId": "3bed789a-7b67-47cb-f129-93af4d8c12c0"
      },
      "outputs": [
        {
          "output_type": "stream",
          "name": "stdout",
          "text": [
            "Conjunto de Treinamento demorou: 6.351391666666667 minutos\n"
          ]
        }
      ],
      "source": [
        "tempo_execucao = final_arvore + final_carro + final_casa + final_arvore\n",
        "conv_minuto = tempo_execucao/60\n",
        "print(f'Conjunto de Treinamento demorou: {conv_minuto} minutos')"
      ]
    },
    {
      "cell_type": "markdown",
      "metadata": {
        "id": "LX9g6fxSxRe_"
      },
      "source": [
        "# Juntar dataset"
      ]
    },
    {
      "cell_type": "code",
      "execution_count": null,
      "metadata": {
        "id": "_jMISWZmzoGU"
      },
      "outputs": [],
      "source": [
        "# Lista com cada cata set\n",
        "df_predio_class = df_predio\n",
        "df_carro_class = df_carro\n",
        "df_casa_class = df_casa\n",
        "df_arvore_class = df_arvore"
      ]
    },
    {
      "cell_type": "code",
      "execution_count": null,
      "metadata": {
        "colab": {
          "base_uri": "https://localhost:8080/"
        },
        "id": "t_E3U9rLs4ZK",
        "outputId": "b64df855-e5e4-4a3d-b6b0-e1ad34c84d61"
      },
      "outputs": [
        {
          "name": "stdout",
          "output_type": "stream",
          "text": [
            "Tamanho dos dataset\n",
            "Predio: 524\n",
            "Carro: 850\n",
            "Casa: 800\n",
            "Arvore: 840\n"
          ]
        }
      ],
      "source": [
        "print('Tamanho dos dataset')\n",
        "print(f'Predio: {len(df_predio)}')\n",
        "print(f'Carro: {len(df_carro)}')\n",
        "print(f'Casa: {len(df_casa)}')\n",
        "print(f'Arvore: {len(df_arvore)}')"
      ]
    },
    {
      "cell_type": "markdown",
      "metadata": {
        "id": "Gv2pgFKplntn"
      },
      "source": [
        "# **Adicionando a coluna classe ao data Frame**"
      ]
    },
    {
      "cell_type": "code",
      "execution_count": null,
      "metadata": {
        "id": "TacBYRJ5lwMH"
      },
      "outputs": [],
      "source": [
        "inicio_Crear_data =init_time()\n",
        "# Criando lista com o valor de cada linha\n",
        "class_predio = []\n",
        "class_carro = []\n",
        "class_casa = []\n",
        "class_arvore = []\n",
        "\n",
        "for i in range(len(df_predio_class)):\n",
        "  class_predio.append(0)\n",
        "\n",
        "for i in range(len(df_carro_class)):\n",
        "  class_carro.append(1)\n",
        "\n",
        "for i in range(len(df_casa_class)):\n",
        "  class_casa.append(2)\n",
        "\n",
        "for i in range(len(df_arvore_class)):\n",
        "  class_arvore.append(3)\n",
        "\n",
        "\n",
        "# Adicionar nova coluna class aos data Frame\n",
        "df_predio_class['Classe'] = class_predio\n",
        "df_carro_class['Classe'] = class_carro\n",
        "df_casa_class['Classe'] = class_casa\n",
        "df_arvore_class['Classe'] = class_arvore\n",
        "\n"
      ]
    },
    {
      "cell_type": "code",
      "execution_count": null,
      "metadata": {
        "id": "d1jotkHI1kKF"
      },
      "outputs": [],
      "source": [
        "# Dataframe auxiliares\n",
        "df_00 = df_predio_class\n",
        "df_01 = df_carro_class\n",
        "df_02 = df_casa_class\n",
        "df_03 = df_arvore_class"
      ]
    },
    {
      "cell_type": "code",
      "execution_count": null,
      "metadata": {
        "id": "rmZkYkGl3Zw5"
      },
      "outputs": [],
      "source": [
        "# Recursão para juntar os dataframe\n",
        "df_aux = df_00.append(df_01)\n",
        "df_aux = df_aux.append(df_02)\n",
        "df_aux = df_aux.append(df_03)"
      ]
    },
    {
      "cell_type": "code",
      "execution_count": null,
      "metadata": {
        "colab": {
          "base_uri": "https://localhost:8080/",
          "height": 300
        },
        "id": "sjYYz0Ic5VAR",
        "outputId": "37daf2d6-b7cb-43d8-de13-e955ebf64ab0"
      },
      "outputs": [
        {
          "data": {
            "text/html": [
              "\n",
              "  <div id=\"df-f85c1afe-c1f3-4fd1-bc65-268dcbd4da69\">\n",
              "    <div class=\"colab-df-container\">\n",
              "      <div>\n",
              "<style scoped>\n",
              "    .dataframe tbody tr th:only-of-type {\n",
              "        vertical-align: middle;\n",
              "    }\n",
              "\n",
              "    .dataframe tbody tr th {\n",
              "        vertical-align: top;\n",
              "    }\n",
              "\n",
              "    .dataframe thead th {\n",
              "        text-align: right;\n",
              "    }\n",
              "</style>\n",
              "<table border=\"1\" class=\"dataframe\">\n",
              "  <thead>\n",
              "    <tr style=\"text-align: right;\">\n",
              "      <th></th>\n",
              "      <th>N1</th>\n",
              "      <th>N2</th>\n",
              "      <th>N3</th>\n",
              "      <th>N4</th>\n",
              "      <th>N5</th>\n",
              "      <th>N6</th>\n",
              "      <th>N7</th>\n",
              "      <th>N8</th>\n",
              "      <th>N9</th>\n",
              "      <th>N10</th>\n",
              "      <th>...</th>\n",
              "      <th>N992</th>\n",
              "      <th>N993</th>\n",
              "      <th>N994</th>\n",
              "      <th>N995</th>\n",
              "      <th>N996</th>\n",
              "      <th>N997</th>\n",
              "      <th>N998</th>\n",
              "      <th>N999</th>\n",
              "      <th>N1000</th>\n",
              "      <th>Classe</th>\n",
              "    </tr>\n",
              "  </thead>\n",
              "  <tbody>\n",
              "    <tr>\n",
              "      <th>0</th>\n",
              "      <td>0.000697</td>\n",
              "      <td>0.000402</td>\n",
              "      <td>0.000220</td>\n",
              "      <td>0.000439</td>\n",
              "      <td>0.000383</td>\n",
              "      <td>0.000864</td>\n",
              "      <td>0.000460</td>\n",
              "      <td>0.000543</td>\n",
              "      <td>0.000850</td>\n",
              "      <td>0.000896</td>\n",
              "      <td>...</td>\n",
              "      <td>0.000343</td>\n",
              "      <td>0.000256</td>\n",
              "      <td>0.000609</td>\n",
              "      <td>0.000372</td>\n",
              "      <td>0.000745</td>\n",
              "      <td>0.000538</td>\n",
              "      <td>0.000332</td>\n",
              "      <td>0.000711</td>\n",
              "      <td>0.000704</td>\n",
              "      <td>0</td>\n",
              "    </tr>\n",
              "    <tr>\n",
              "      <th>0</th>\n",
              "      <td>0.000161</td>\n",
              "      <td>0.000093</td>\n",
              "      <td>0.000079</td>\n",
              "      <td>0.000093</td>\n",
              "      <td>0.000088</td>\n",
              "      <td>0.000335</td>\n",
              "      <td>0.000161</td>\n",
              "      <td>0.000156</td>\n",
              "      <td>0.000335</td>\n",
              "      <td>0.000250</td>\n",
              "      <td>...</td>\n",
              "      <td>0.000111</td>\n",
              "      <td>0.000121</td>\n",
              "      <td>0.000247</td>\n",
              "      <td>0.000151</td>\n",
              "      <td>0.000253</td>\n",
              "      <td>0.000225</td>\n",
              "      <td>0.000124</td>\n",
              "      <td>0.000200</td>\n",
              "      <td>0.000237</td>\n",
              "      <td>0</td>\n",
              "    </tr>\n",
              "    <tr>\n",
              "      <th>0</th>\n",
              "      <td>0.000249</td>\n",
              "      <td>0.000075</td>\n",
              "      <td>0.000156</td>\n",
              "      <td>0.000110</td>\n",
              "      <td>0.000109</td>\n",
              "      <td>0.000161</td>\n",
              "      <td>0.000095</td>\n",
              "      <td>0.000258</td>\n",
              "      <td>0.000216</td>\n",
              "      <td>0.000203</td>\n",
              "      <td>...</td>\n",
              "      <td>0.000118</td>\n",
              "      <td>0.000146</td>\n",
              "      <td>0.000288</td>\n",
              "      <td>0.000192</td>\n",
              "      <td>0.000374</td>\n",
              "      <td>0.000226</td>\n",
              "      <td>0.000053</td>\n",
              "      <td>0.000075</td>\n",
              "      <td>0.001739</td>\n",
              "      <td>0</td>\n",
              "    </tr>\n",
              "    <tr>\n",
              "      <th>0</th>\n",
              "      <td>0.000227</td>\n",
              "      <td>0.000327</td>\n",
              "      <td>0.000397</td>\n",
              "      <td>0.000311</td>\n",
              "      <td>0.000308</td>\n",
              "      <td>0.000591</td>\n",
              "      <td>0.000425</td>\n",
              "      <td>0.000390</td>\n",
              "      <td>0.000302</td>\n",
              "      <td>0.000453</td>\n",
              "      <td>...</td>\n",
              "      <td>0.000247</td>\n",
              "      <td>0.000277</td>\n",
              "      <td>0.000178</td>\n",
              "      <td>0.000251</td>\n",
              "      <td>0.000235</td>\n",
              "      <td>0.000345</td>\n",
              "      <td>0.000160</td>\n",
              "      <td>0.000173</td>\n",
              "      <td>0.000532</td>\n",
              "      <td>0</td>\n",
              "    </tr>\n",
              "    <tr>\n",
              "      <th>0</th>\n",
              "      <td>0.000185</td>\n",
              "      <td>0.000258</td>\n",
              "      <td>0.000267</td>\n",
              "      <td>0.000259</td>\n",
              "      <td>0.000260</td>\n",
              "      <td>0.000441</td>\n",
              "      <td>0.000286</td>\n",
              "      <td>0.000231</td>\n",
              "      <td>0.000242</td>\n",
              "      <td>0.000403</td>\n",
              "      <td>...</td>\n",
              "      <td>0.000217</td>\n",
              "      <td>0.000227</td>\n",
              "      <td>0.000258</td>\n",
              "      <td>0.000209</td>\n",
              "      <td>0.000269</td>\n",
              "      <td>0.000295</td>\n",
              "      <td>0.000131</td>\n",
              "      <td>0.000145</td>\n",
              "      <td>0.000722</td>\n",
              "      <td>0</td>\n",
              "    </tr>\n",
              "  </tbody>\n",
              "</table>\n",
              "<p>5 rows × 1001 columns</p>\n",
              "</div>\n",
              "      <button class=\"colab-df-convert\" onclick=\"convertToInteractive('df-f85c1afe-c1f3-4fd1-bc65-268dcbd4da69')\"\n",
              "              title=\"Convert this dataframe to an interactive table.\"\n",
              "              style=\"display:none;\">\n",
              "        \n",
              "  <svg xmlns=\"http://www.w3.org/2000/svg\" height=\"24px\"viewBox=\"0 0 24 24\"\n",
              "       width=\"24px\">\n",
              "    <path d=\"M0 0h24v24H0V0z\" fill=\"none\"/>\n",
              "    <path d=\"M18.56 5.44l.94 2.06.94-2.06 2.06-.94-2.06-.94-.94-2.06-.94 2.06-2.06.94zm-11 1L8.5 8.5l.94-2.06 2.06-.94-2.06-.94L8.5 2.5l-.94 2.06-2.06.94zm10 10l.94 2.06.94-2.06 2.06-.94-2.06-.94-.94-2.06-.94 2.06-2.06.94z\"/><path d=\"M17.41 7.96l-1.37-1.37c-.4-.4-.92-.59-1.43-.59-.52 0-1.04.2-1.43.59L10.3 9.45l-7.72 7.72c-.78.78-.78 2.05 0 2.83L4 21.41c.39.39.9.59 1.41.59.51 0 1.02-.2 1.41-.59l7.78-7.78 2.81-2.81c.8-.78.8-2.07 0-2.86zM5.41 20L4 18.59l7.72-7.72 1.47 1.35L5.41 20z\"/>\n",
              "  </svg>\n",
              "      </button>\n",
              "      \n",
              "  <style>\n",
              "    .colab-df-container {\n",
              "      display:flex;\n",
              "      flex-wrap:wrap;\n",
              "      gap: 12px;\n",
              "    }\n",
              "\n",
              "    .colab-df-convert {\n",
              "      background-color: #E8F0FE;\n",
              "      border: none;\n",
              "      border-radius: 50%;\n",
              "      cursor: pointer;\n",
              "      display: none;\n",
              "      fill: #1967D2;\n",
              "      height: 32px;\n",
              "      padding: 0 0 0 0;\n",
              "      width: 32px;\n",
              "    }\n",
              "\n",
              "    .colab-df-convert:hover {\n",
              "      background-color: #E2EBFA;\n",
              "      box-shadow: 0px 1px 2px rgba(60, 64, 67, 0.3), 0px 1px 3px 1px rgba(60, 64, 67, 0.15);\n",
              "      fill: #174EA6;\n",
              "    }\n",
              "\n",
              "    [theme=dark] .colab-df-convert {\n",
              "      background-color: #3B4455;\n",
              "      fill: #D2E3FC;\n",
              "    }\n",
              "\n",
              "    [theme=dark] .colab-df-convert:hover {\n",
              "      background-color: #434B5C;\n",
              "      box-shadow: 0px 1px 3px 1px rgba(0, 0, 0, 0.15);\n",
              "      filter: drop-shadow(0px 1px 2px rgba(0, 0, 0, 0.3));\n",
              "      fill: #FFFFFF;\n",
              "    }\n",
              "  </style>\n",
              "\n",
              "      <script>\n",
              "        const buttonEl =\n",
              "          document.querySelector('#df-f85c1afe-c1f3-4fd1-bc65-268dcbd4da69 button.colab-df-convert');\n",
              "        buttonEl.style.display =\n",
              "          google.colab.kernel.accessAllowed ? 'block' : 'none';\n",
              "\n",
              "        async function convertToInteractive(key) {\n",
              "          const element = document.querySelector('#df-f85c1afe-c1f3-4fd1-bc65-268dcbd4da69');\n",
              "          const dataTable =\n",
              "            await google.colab.kernel.invokeFunction('convertToInteractive',\n",
              "                                                     [key], {});\n",
              "          if (!dataTable) return;\n",
              "\n",
              "          const docLinkHtml = 'Like what you see? Visit the ' +\n",
              "            '<a target=\"_blank\" href=https://colab.research.google.com/notebooks/data_table.ipynb>data table notebook</a>'\n",
              "            + ' to learn more about interactive tables.';\n",
              "          element.innerHTML = '';\n",
              "          dataTable['output_type'] = 'display_data';\n",
              "          await google.colab.output.renderOutput(dataTable, element);\n",
              "          const docLink = document.createElement('div');\n",
              "          docLink.innerHTML = docLinkHtml;\n",
              "          element.appendChild(docLink);\n",
              "        }\n",
              "      </script>\n",
              "    </div>\n",
              "  </div>\n",
              "  "
            ],
            "text/plain": [
              "         N1        N2        N3        N4        N5        N6        N7  \\\n",
              "0  0.000697  0.000402  0.000220  0.000439  0.000383  0.000864  0.000460   \n",
              "0  0.000161  0.000093  0.000079  0.000093  0.000088  0.000335  0.000161   \n",
              "0  0.000249  0.000075  0.000156  0.000110  0.000109  0.000161  0.000095   \n",
              "0  0.000227  0.000327  0.000397  0.000311  0.000308  0.000591  0.000425   \n",
              "0  0.000185  0.000258  0.000267  0.000259  0.000260  0.000441  0.000286   \n",
              "\n",
              "         N8        N9       N10  ...      N992      N993      N994      N995  \\\n",
              "0  0.000543  0.000850  0.000896  ...  0.000343  0.000256  0.000609  0.000372   \n",
              "0  0.000156  0.000335  0.000250  ...  0.000111  0.000121  0.000247  0.000151   \n",
              "0  0.000258  0.000216  0.000203  ...  0.000118  0.000146  0.000288  0.000192   \n",
              "0  0.000390  0.000302  0.000453  ...  0.000247  0.000277  0.000178  0.000251   \n",
              "0  0.000231  0.000242  0.000403  ...  0.000217  0.000227  0.000258  0.000209   \n",
              "\n",
              "       N996      N997      N998      N999     N1000  Classe  \n",
              "0  0.000745  0.000538  0.000332  0.000711  0.000704       0  \n",
              "0  0.000253  0.000225  0.000124  0.000200  0.000237       0  \n",
              "0  0.000374  0.000226  0.000053  0.000075  0.001739       0  \n",
              "0  0.000235  0.000345  0.000160  0.000173  0.000532       0  \n",
              "0  0.000269  0.000295  0.000131  0.000145  0.000722       0  \n",
              "\n",
              "[5 rows x 1001 columns]"
            ]
          },
          "execution_count": 30,
          "metadata": {},
          "output_type": "execute_result"
        }
      ],
      "source": [
        "df_aux.head()"
      ]
    },
    {
      "cell_type": "code",
      "execution_count": null,
      "metadata": {
        "id": "xJJStl3gxqlC"
      },
      "outputs": [],
      "source": [
        "name_save = ['VGG_16',\n",
        "             'MobileNet',\n",
        "             'EfficientNetB0',\n",
        "             'ResNet50V2',\n",
        "             'EfficientNetV2L',\n",
        "             'EfficientNetB7',\n",
        "             'NASNetLarge',\n",
        "             'InceptionResNetV2']\n",
        "\n",
        "base_save = '/content/drive/MyDrive/TensorFlow_IC/Dados/IC_Extraction_save/'"
      ]
    },
    {
      "cell_type": "code",
      "execution_count": null,
      "metadata": {
        "colab": {
          "base_uri": "https://localhost:8080/"
        },
        "id": "wkR5H-FMxswC",
        "outputId": "30ce3f25-a920-40b7-ad28-ac003500bfd4"
      },
      "outputs": [
        {
          "name": "stdout",
          "output_type": "stream",
          "text": [
            "/content/drive/MyDrive/TensorFlow_IC/Dados/IC_Extraction_save/VGG_16/VGG_16_Train.csv\n",
            "/content/drive/MyDrive/TensorFlow_IC/Dados/IC_Extraction_save/MobileNet/MobileNet_Train.csv\n",
            "/content/drive/MyDrive/TensorFlow_IC/Dados/IC_Extraction_save/EfficientNetB0/EfficientNetB0_Train.csv\n",
            "/content/drive/MyDrive/TensorFlow_IC/Dados/IC_Extraction_save/ResNet50V2/ResNet50V2_Train.csv\n",
            "/content/drive/MyDrive/TensorFlow_IC/Dados/IC_Extraction_save/EfficientNetV2L/EfficientNetV2L_Train.csv\n",
            "/content/drive/MyDrive/TensorFlow_IC/Dados/IC_Extraction_save/EfficientNetB7/EfficientNetB7_Train.csv\n",
            "/content/drive/MyDrive/TensorFlow_IC/Dados/IC_Extraction_save/NASNetLarge/NASNetLarge_Train.csv\n",
            "/content/drive/MyDrive/TensorFlow_IC/Dados/IC_Extraction_save/InceptionResNetV2/InceptionResNetV2_Train.csv\n"
          ]
        }
      ],
      "source": [
        "# Gera link para o salvamento\n",
        "linkPSave = []\n",
        "for link in name_save:\n",
        "  linke = f'{base_save}{link}/{link}_Train.csv'\n",
        "  linkPSave.append(linke)\n",
        "\n",
        "\n",
        "for links in linkPSave:\n",
        "  print(links)"
      ]
    },
    {
      "cell_type": "code",
      "execution_count": null,
      "metadata": {
        "colab": {
          "base_uri": "https://localhost:8080/",
          "height": 53
        },
        "id": "BQIzvx6SxvHu",
        "outputId": "4cea27b3-1ef6-4940-ebe0-78969f0b0f08"
      },
      "outputs": [
        {
          "data": {
            "application/vnd.google.colaboratory.intrinsic+json": {
              "type": "string"
            },
            "text/plain": [
              "' 0- vgg-16\\n    1- MobileNet\\n    2- EfficientNetB0\\n    3- ResNet50V2\\n    4- EfficientNetV2L\\n    5- EfficientNetB7\\n    6- NASNetLarge\\n    7- InceptionResNetV2'"
            ]
          },
          "execution_count": 33,
          "metadata": {},
          "output_type": "execute_result"
        }
      ],
      "source": [
        "# Seleciona link\n",
        "''' 0- vgg-16\n",
        "    1- MobileNet\n",
        "    2- EfficientNetB0\n",
        "    3- ResNet50V2\n",
        "    4- EfficientNetV2L\n",
        "    5- EfficientNetB7\n",
        "    6- NASNetLarge\n",
        "    7- InceptionResNetV2'''"
      ]
    },
    {
      "cell_type": "code",
      "execution_count": null,
      "metadata": {
        "colab": {
          "base_uri": "https://localhost:8080/"
        },
        "id": "ddo9L0SVxxJE",
        "outputId": "e1be0aa7-312b-4ee6-ded0-f1319502b344"
      },
      "outputs": [
        {
          "name": "stdout",
          "output_type": "stream",
          "text": [
            "/content/drive/MyDrive/TensorFlow_IC/Dados/IC_Extraction_save/EfficientNetV2L/EfficientNetV2L_Train.csv\n"
          ]
        }
      ],
      "source": [
        "link_save = linkPSave[4]\n",
        "print(link_save)"
      ]
    },
    {
      "cell_type": "code",
      "execution_count": null,
      "metadata": {
        "id": "JtY7jB2y-j1n"
      },
      "outputs": [],
      "source": [
        "# Salvar arquivo csv\n",
        "from pathlib import Path  \n",
        "filepath = Path(link_save)  \n",
        "filepath.parent.mkdir(parents=True, exist_ok=True)  \n",
        "df_aux.to_csv(filepath)  "
      ]
    }
  ],
  "metadata": {
    "accelerator": "GPU",
    "colab": {
      "collapsed_sections": [
        "tX9qV94E1Xi3",
        "dpxWXF33uLxo",
        "ir80q5D_hj_U",
        "2sGxQ28e9rQ-",
        "1g8CBPTn93G7",
        "bbI7jMei_JKE",
        "OPw8UtfxUZgo",
        "Roax3s6sagZD"
      ],
      "name": "Fullversion_ CNN_Extraction_train_Save_inic.ipynb",
      "provenance": [],
      "include_colab_link": true
    },
    "kernelspec": {
      "display_name": "Python 3",
      "name": "python3"
    },
    "language_info": {
      "name": "python"
    }
  },
  "nbformat": 4,
  "nbformat_minor": 0
}
